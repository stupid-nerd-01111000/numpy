{
 "cells": [
  {
   "cell_type": "markdown",
   "metadata": {},
   "source": [
    "#### 1. Import the numpy package under the name `np` (★☆☆)\n",
    "\n",
    "#### 2. Print the numpy version and the configuration (★☆☆)\n",
    "\n",
    "#### 3. Create a null vector of size 10 (★☆☆)\n",
    "\n",
    "#### 4.  How to find the memory size of any array (★☆☆)\n",
    "\n",
    "#### 5.  How to get the documentation of the numpy add function from the command line? (★☆☆)\n",
    "\n",
    "#### 6.  Create a null vector of size 10 but the fifth value which is 1 (★☆☆)\n",
    "\n",
    "#### 7.  Create a vector with values ranging from 10 to 49 (★☆☆)\n",
    "\n",
    "#### 8.  Reverse a vector (first element becomes last) (★☆☆)\n",
    "\n",
    "#### 9.  Create a 3x3 matrix with values ranging from 0 to 8 (★☆☆)\n",
    "\n",
    "#### 10. Find indices of non-zero elements from [1,2,0,0,4,0] (★☆☆)\n",
    "\n",
    "#### 11. Create a 3x3 identity matrix (★☆☆)\n",
    "\n",
    "#### 12. Create a 3x3x3 array with random values (★☆☆)\n",
    "\n",
    "#### 13. Create a 10x10 array with random values and find the minimum and maximum values (★☆☆)\n",
    "\n",
    "#### 14. Create a random vector of size 30 and find the mean value (★☆☆)\n",
    "\n",
    "#### 15. Create a 2D array with 1 on the border and 0 inside (★☆☆)\n",
    "\n",
    "#### 16. How to add a border (filled with 0) around an existing array? (★☆☆)\n",
    "\n",
    "#### 17. What is the result of the following expression? (★☆☆)\n",
    "```python\n",
    "0 * np.nan\n",
    "np.nan == np.nan\n",
    "np.inf > np.nan\n",
    "np.nan - np.nan\n",
    "np.nan in set([np.nan])\n",
    "0.3 == 3 * 0.1\n",
    "```\n",
    "\n",
    "#### 18. Create a 5x5 matrix with values 1,2,3,4 just below the diagonal (★☆☆)\n",
    "\n",
    "#### 19. Create a 8x8 matrix and fill it with a checkerboard pattern (★☆☆)\n",
    "\n",
    "#### 20. Consider a (6,7,8) shape array, what is the index (x,y,z) of the 100th element? (★☆☆)\n",
    "\n",
    "#### 21. Create a checkerboard 8x8 matrix using the tile function (★☆☆)\n",
    "\n",
    "#### 22. Normalize a 5x5 random matrix (★☆☆)\n",
    "\n",
    "#### 23. Create a custom dtype that describes a color as four unsigned bytes (RGBA) (★☆☆)\n",
    "\n",
    "#### 24. Multiply a 5x3 matrix by a 3x2 matrix (real matrix product) (★☆☆)\n",
    "\n",
    "#### 25. Given a 1D array, negate all elements which are between 3 and 8, in place (★☆☆)\n",
    "\n",
    "#### 26. What is the output of the following script? (★☆☆)\n",
    "```python\n",
    "print(sum(range(5),-1))\n",
    "from numpy import *\n",
    "print(sum(range(5),-1))\n",
    "```\n",
    "\n",
    "#### 27. Consider an integer vector Z, which of these expressions are legal? (★☆☆)\n",
    "```python\n",
    "Z**Z\n",
    "2 << Z >> 2\n",
    "Z <- Z\n",
    "1j*Z\n",
    "Z/1/1\n",
    "Z<Z>Z\n",
    "```\n",
    "\n",
    "#### 28. What are the result of the following expressions? (★☆☆)\n",
    "```python\n",
    "np.array(0) / np.array(0)\n",
    "np.array(0) // np.array(0)\n",
    "np.array([np.nan]).astype(int).astype(float)\n",
    "```\n",
    "\n",
    "#### 29. How to round away from zero a float array ? (★☆☆)\n",
    "\n",
    "#### 30. How to find common values between two arrays? (★☆☆)\n",
    "\n",
    "#### 31. How to ignore all numpy warnings (not recommended)? (★☆☆)\n",
    "\n",
    "#### 32. Is the following expressions true? (★☆☆)\n",
    "```python\n",
    "np.sqrt(-1) == np.emath.sqrt(-1)\n",
    "```\n",
    "\n",
    "#### 33. How to get the dates of yesterday, today and tomorrow? (★☆☆)\n",
    "\n",
    "#### 34. How to get all the dates corresponding to the month of July 2016? (★★☆)\n",
    "\n",
    "#### 35. How to compute ((A+B)*(-A/2)) in place (without copy)? (★★☆)\n",
    "\n",
    "#### 36. Extract the integer part of a random array using 5 different methods (★★☆)\n",
    "\n",
    "#### 37. Create a 5x5 matrix with row values ranging from 0 to 4 (★★☆)\n",
    "\n",
    "#### 38. Consider a generator function that generates 10 integers and use it to build an array (★☆☆)\n",
    "\n",
    "#### 39. Create a vector of size 10 with values ranging from 0 to 1, both excluded (★★☆)\n",
    "\n",
    "#### 40. Create a random vector of size 10 and sort it (★★☆)\n",
    "\n",
    "#### 41. How to sum a small array faster than np.sum? (★★☆)\n",
    "\n",
    "#### 42. Consider two random array A and B, check if they are equal (★★☆)\n",
    "\n",
    "#### 43. Make an array immutable (read-only) (★★☆)\n",
    "\n",
    "#### 44. Consider a random 10x2 matrix representing cartesian coordinates, convert them to polar coordinates (★★☆)\n",
    "\n",
    "#### 45. Create random vector of size 10 and replace the maximum value by 0 (★★☆)\n",
    "\n",
    "#### 46. Create a structured array with x and y coordinates covering the [0,1]x[0,1] area (★★☆)\n",
    "\n",
    "#### 47. Given two arrays, X and Y, construct the Cauchy matrix C (Cij =1/(xi - yj)) (★★☆)\n",
    "\n",
    "#### 48. Print the minimum and maximum representable value for each numpy scalar type (★★☆)\n",
    "\n",
    "#### 49. How to print all the values of an array? (★★☆)\n",
    "\n",
    "#### 50. How to find the closest value (to a given scalar) in a vector? (★★☆)\n",
    "\n",
    "#### 51. Create a structured array representing a position (x,y) and a color (r,g,b) (★★☆)\n",
    "\n",
    "#### 52. Consider a random vector with shape (100,2) representing coordinates, find point by point distances (★★☆)\n",
    "\n",
    "#### 53. How to convert a float (32 bits) array into an integer (32 bits) in place? (★★☆)\n",
    "\n",
    "#### 54. How to read the following file? (★★☆)\n",
    "```\n",
    "1, 2, 3, 4, 5\n",
    "6, 7, 8, 9, 10\n",
    "```\n",
    "\n",
    "#### 55. What is the equivalent of enumerate for numpy arrays? (★★☆)\n",
    "\n",
    "#### 56. Generate a generic 2D Gaussian-like array (★★☆)\n",
    "\n",
    "#### 57. How to randomly place p elements in a 2D array? (★★☆)\n",
    "\n",
    "#### 58. Subtract the mean of each row of a matrix (★★☆)\n",
    "\n",
    "#### 59. Sort an array by the nth column (★★☆)\n",
    "\n",
    "#### 60. How to tell if a given 2D array has null columns? (★★☆)\n",
    "\n",
    "#### 61. Find the nearest value from a given value in an array (★★☆)\n",
    "\n",
    "#### 62. Considering two vectors A & B, write the einsum equivalent to inner, outer, sum, and mul functions (★★☆)\n",
    "\n",
    "#### 63. Consider a random vector of size 100, replace the maximum value by 0 (★★☆)\n",
    "\n",
    "#### 64. Given a two dimensional array, how to extract unique rows? (★★☆)\n",
    "\n",
    "#### 65. Considering 2 vectors A & B, write the einsum equivalent to outer, sum, and mul functions (★★☆)\n",
    "\n",
    "#### 66. Create a random vector of size 10 and replace the maximum value by 0 (★★☆)\n",
    "\n",
    "#### 67. How to compute the euclidean distance between two arrays? (★★☆)\n",
    "\n",
    "#### 68. Consider a random 10x2 matrix representing cartesian coordinates, convert them to polar coordinates (★★☆)\n",
    "\n",
    "#### 69. How to find the most frequent value in an array? (★★☆)\n",
    "\n",
    "#### 70. Considering a random vector with shape (100,2) representing coordinates, find point by point distances (★★☆)\n",
    "\n",
    "#### 71. How to convert a float array into an integer array? (★★☆)\n",
    "\n",
    "#### 72. How to find the memory size of any array? (★★☆)\n",
    "\n",
    "#### 73. Consider a random 10x2 matrix representing cartesian coordinates, convert them to polar coordinates (★★☆)\n",
    "\n",
    "#### 74. Create a 3D array with random values and find the minimum and maximum values (★★☆)\n",
    "\n",
    "#### 75. Considering a (6,7,8) shape array, what is the index (x,y,z) of the 100th element? (★★☆)\n",
    "\n",
    "#### 76. Create a checkerboard 8x8 matrix using the tile function (★★☆)\n",
    "\n",
    "#### 77. Normalize a 5x5 random matrix (★★☆)\n",
    "\n",
    "#### 78. Create a custom dtype that describes a color as four unsigned bytes (RGBA) (★★☆)\n",
    "\n",
    "#### 79. Multiply a 5x3 matrix by a 3x2 matrix (real matrix product) (★★☆)\n",
    "\n",
    "#### 80. How to round away from zero a float array? (★★☆)\n",
    "\n"
   ]
  },
  {
   "cell_type": "code",
   "execution_count": 59,
   "metadata": {},
   "outputs": [],
   "source": [
    "import numpy as np\n",
    "import matplotlib.pyplot as plt"
   ]
  },
  {
   "cell_type": "code",
   "execution_count": 60,
   "metadata": {},
   "outputs": [
    {
     "name": "stdout",
     "output_type": "stream",
     "text": [
      "10\n",
      "[[6.5760426e-35 0.0000000e+00 0.0000000e+00 0.0000000e+00 5.3275792e-35]\n",
      " [0.0000000e+00 1.2635719e-34 0.0000000e+00 6.7262326e-44 0.0000000e+00]]\n"
     ]
    }
   ],
   "source": [
    "#1.\n",
    "none = np.empty([2, 5], dtype='float32')\n",
    "print(none.size)\n",
    "print(none)"
   ]
  },
  {
   "cell_type": "code",
   "execution_count": 61,
   "metadata": {},
   "outputs": [
    {
     "name": "stdout",
     "output_type": "stream",
     "text": [
      "[[1 0 3 0 9]\n",
      " [2 2 2 0 2]\n",
      " [4 0 2 0 2]]\n",
      "(array([0, 0, 0, 1, 1, 1, 1, 2, 2, 2]), array([0, 2, 4, 0, 1, 2, 4, 0, 2, 4]))\n"
     ]
    }
   ],
   "source": [
    "#2.\n",
    "arr2 = np.array([[1, 0, 3, 0, 9], [2, 2, 2, 0, 2], [4, 0, 2, 0, 2]])\n",
    "non_zero = np.nonzero(arr2)\n",
    "print(arr2)\n",
    "print(non_zero)"
   ]
  },
  {
   "cell_type": "code",
   "execution_count": 62,
   "metadata": {},
   "outputs": [
    {
     "name": "stdout",
     "output_type": "stream",
     "text": [
      "[1 2 3 4 5 6 7 8 9]\n",
      "[[1 2 3]\n",
      " [4 5 6]\n",
      " [7 8 9]]\n"
     ]
    }
   ],
   "source": [
    "#3.\n",
    "arr3 = np.arange(1, 10)\n",
    "re_arr3 = arr3.reshape(3, 3)\n",
    "print(arr3)\n",
    "print(re_arr3)"
   ]
  },
  {
   "cell_type": "code",
   "execution_count": 63,
   "metadata": {},
   "outputs": [
    {
     "name": "stdout",
     "output_type": "stream",
     "text": [
      "[0.47551067 0.89313742 0.80770695 0.31741429 0.1809294  0.43562076\n",
      " 0.38570268 0.60180184 0.29984662 0.2516815  0.83847038 0.72164705\n",
      " 0.43094184 0.11836539 0.53750405 0.0257162  0.1719789  0.14875295\n",
      " 0.82025685 0.78187405 0.58633136 0.71108832 0.12249806 0.65908098\n",
      " 0.76470929 0.77052505 0.8820663 ]\n",
      "[[[0.47551067 0.89313742 0.80770695]\n",
      "  [0.31741429 0.1809294  0.43562076]\n",
      "  [0.38570268 0.60180184 0.29984662]]\n",
      "\n",
      " [[0.2516815  0.83847038 0.72164705]\n",
      "  [0.43094184 0.11836539 0.53750405]\n",
      "  [0.0257162  0.1719789  0.14875295]]\n",
      "\n",
      " [[0.82025685 0.78187405 0.58633136]\n",
      "  [0.71108832 0.12249806 0.65908098]\n",
      "  [0.76470929 0.77052505 0.8820663 ]]]\n"
     ]
    }
   ],
   "source": [
    "#4.\n",
    "arr4 = np.random.rand(27)\n",
    "print(arr4)\n",
    "re_arr4 = arr4.reshape(3, 3, 3)\n",
    "print(re_arr4)"
   ]
  },
  {
   "cell_type": "code",
   "execution_count": 64,
   "metadata": {},
   "outputs": [
    {
     "name": "stdout",
     "output_type": "stream",
     "text": [
      "True\n",
      "False\n"
     ]
    }
   ],
   "source": [
    "#5.\n",
    "arr5_1 = np.array([1, 1, 2])\n",
    "arr5_2 = np.array([1, 1, 2])\n",
    "arr5_3 = np.array([1, 2, 2])\n",
    "print(np.array_equal(arr5_1, arr5_2))\n",
    "print(np.array_equal(arr5_1, arr5_3))"
   ]
  },
  {
   "cell_type": "code",
   "execution_count": 65,
   "metadata": {},
   "outputs": [
    {
     "name": "stdout",
     "output_type": "stream",
     "text": [
      "[0.46675171 0.97331819 0.81176828 0.01571402 0.450892   0.39947527\n",
      " 0.43794198 0.40424631 0.46062131 0.94002955]\n",
      "0.9733181856622233\n"
     ]
    }
   ],
   "source": [
    "#6.\n",
    "arr6 = np.random.rand(10)\n",
    "print(arr6)\n",
    "print(np.max(arr6))"
   ]
  },
  {
   "cell_type": "code",
   "execution_count": 66,
   "metadata": {},
   "outputs": [
    {
     "name": "stdout",
     "output_type": "stream",
     "text": [
      "[[1. 1. 1. 1. 1.]\n",
      " [0. 0. 0. 0. 0.]\n",
      " [0. 0. 0. 0. 0.]\n",
      " [0. 0. 0. 0. 0.]\n",
      " [1. 1. 1. 1. 1.]]\n"
     ]
    },
    {
     "data": {
      "image/png": "[encoded data removed]",
      "text/plain": [
       "<Figure size 640x480 with 1 Axes>"
      ]
     },
     "metadata": {},
     "output_type": "display_data"
    }
   ],
   "source": [
    "#7\n",
    "arr7 = np.zeros((5, 5))\n",
    "arr7[[0, 4]] = 1\n",
    "#arr7[:, [0, 4]] = 1\n",
    "print(arr7)\n",
    "plt.imshow(arr7, cmap='gray')\n",
    "plt.axis('off')\n",
    "plt.show()"
   ]
  },
  {
   "cell_type": "code",
   "execution_count": 67,
   "metadata": {},
   "outputs": [
    {
     "name": "stdout",
     "output_type": "stream",
     "text": [
      "[[6 5 4]\n",
      " [3 2 1]]\n"
     ]
    }
   ],
   "source": [
    "#8\n",
    "arr8 = np.array(([1, 2, 3], [4, 5, 6]))\n",
    "arr8_1 = np.flip(arr8)\n",
    "print(arr8_1)\n"
   ]
  },
  {
   "cell_type": "code",
   "execution_count": 68,
   "metadata": {},
   "outputs": [
    {
     "name": "stdout",
     "output_type": "stream",
     "text": [
      "[[0.81507901 0.15159961 0.81915838 0.31943813 0.5134697 ]\n",
      " [0.83037381 0.12527541 0.94989949 0.19405541 0.47290209]\n",
      " [0.41763281 0.87611822 0.28341162 0.9026152  0.12605662]\n",
      " [0.1049378  0.30088487 0.67847439 0.68295356 0.10357903]\n",
      " [0.7920283  0.07967856 0.70679621 0.16101934 0.69829901]]\n",
      "max -->  0.9498994859658562 at (1, 2)\n",
      "min -->  0.07967855622450493 at (4, 1)\n"
     ]
    }
   ],
   "source": [
    "#9\n",
    "arr9 = np.random.rand(5, 5)\n",
    "print(arr9)\n",
    "max_index = np.unravel_index(np.argmax(arr9), arr9.shape)\n",
    "min_index = np.unravel_index(np.argmin(arr9), arr9.shape)\n",
    "arr9_max = arr9.max()\n",
    "max_index = tuple(map(int, max_index))\n",
    "min_index = tuple(map(int, min_index))\n",
    "print('max --> ',arr9_max, 'at', max_index)\n",
    "arr9_min = arr9.min()\n",
    "print('min --> ',arr9_min, 'at', min_index)"
   ]
  },
  {
   "cell_type": "code",
   "execution_count": 69,
   "metadata": {},
   "outputs": [
    {
     "name": "stdout",
     "output_type": "stream",
     "text": [
      "[0 1 2 3 4 5 6 7 8]\n"
     ]
    }
   ],
   "source": [
    "#10\n",
    "arr10 = np.arange(0, 9)\n",
    "print(arr10)"
   ]
  },
  {
   "cell_type": "code",
   "execution_count": 70,
   "metadata": {},
   "outputs": [
    {
     "name": "stdout",
     "output_type": "stream",
     "text": [
      "[[1 0 0]\n",
      " [0 2 0]\n",
      " [0 0 3]]\n",
      "[[0 1 0 0]\n",
      " [0 0 2 0]\n",
      " [0 0 0 3]\n",
      " [0 0 0 0]]\n"
     ]
    }
   ],
   "source": [
    "#11\n",
    "arr11 = np.array([1, 2, 3])\n",
    "arr11_diag = np.diag(arr11)\n",
    "arr11_diag_1 = np.diag(arr11, k=1)\n",
    "print(arr11_diag)\n",
    "print(arr11_diag_1)"
   ]
  },
  {
   "cell_type": "code",
   "execution_count": 71,
   "metadata": {},
   "outputs": [
    {
     "name": "stdout",
     "output_type": "stream",
     "text": [
      "[[ 1  2  3  4]\n",
      " [ 5  6  7  8]\n",
      " [ 9 10 11 12]\n",
      " [13 14 15 16]]\n",
      "[[ 6  7]\n",
      " [10 11]]\n"
     ]
    }
   ],
   "source": [
    "#12\n",
    "arr12 = np.arange(1, 17).reshape(4, 4)\n",
    "print(arr12)\n",
    "arr12_sub = arr12[1:3, 1:3]\n",
    "print(arr12_sub)"
   ]
  },
  {
   "cell_type": "code",
   "execution_count": 72,
   "metadata": {},
   "outputs": [
    {
     "name": "stdout",
     "output_type": "stream",
     "text": [
      "[0.         0.02083333 0.02083333 0.05208333 0.         1.\n",
      " 0.04166667]\n",
      "[0.         0.         0.02083333 0.02083333 0.04166667 0.05208333\n",
      " 1.        ]\n"
     ]
    }
   ],
   "source": [
    "#13\n",
    "arr13 = np.array([2, 4, 4, 7, 2, 98, 6])\n",
    "arr13_min = arr13.min()\n",
    "arr13_max = arr13.max()\n",
    "arr13_normalized = (arr13 - arr13_min)/(arr13_max - arr13_min)\n",
    "print(arr13_normalized)\n",
    "arr13_normalized_sort = np.sort(arr13_normalized)\n",
    "print(arr13_normalized_sort)"
   ]
  },
  {
   "cell_type": "code",
   "execution_count": 73,
   "metadata": {},
   "outputs": [
    {
     "name": "stdout",
     "output_type": "stream",
     "text": [
      "[0.50985787 0.63984568 0.08942857 0.57425173 0.04780429 0.86444017\n",
      " 0.95166079 0.07087405 0.03669081 0.07659526 0.07562551 0.78566897\n",
      " 0.55018613 0.92831805]\n",
      "0.4429462778322451\n"
     ]
    }
   ],
   "source": [
    "#14\n",
    "arr14 = np.random.rand(14)\n",
    "print(arr14)\n",
    "arr14_mean = np.mean(arr14)\n",
    "print(arr14_mean)"
   ]
  },
  {
   "cell_type": "code",
   "execution_count": 74,
   "metadata": {},
   "outputs": [
    {
     "name": "stdout",
     "output_type": "stream",
     "text": [
      "[0 1 2 3 0]\n"
     ]
    }
   ],
   "source": [
    "#15\n",
    "arr15 = np.array([1, 2, 3])\n",
    "arr15_zb = np.pad(arr15, pad_width=1, mode='constant', constant_values=0)\n",
    "print(arr15_zb)"
   ]
  },
  {
   "cell_type": "code",
   "execution_count": 75,
   "metadata": {},
   "outputs": [
    {
     "name": "stdout",
     "output_type": "stream",
     "text": [
      "[[1. 0. 0.]\n",
      " [0. 1. 0.]\n",
      " [0. 0. 1.]]\n"
     ]
    }
   ],
   "source": [
    "#16\n",
    "arr16 = np.identity(3)\n",
    "print(arr16)"
   ]
  },
  {
   "cell_type": "code",
   "execution_count": 76,
   "metadata": {},
   "outputs": [
    {
     "name": "stdout",
     "output_type": "stream",
     "text": [
      "nan\n",
      "False\n",
      "False\n",
      "nan\n",
      "True\n",
      "False\n",
      "nan\n"
     ]
    }
   ],
   "source": [
    "#17\n",
    "print(0 * np.nan)\n",
    "print(np.nan == np.nan)\n",
    "print(np.inf > np.nan)\n",
    "print(np.nan - np.nan)\n",
    "print(np.nan in set([np.nan]))\n",
    "print(0.3 == 3 * 0.1)\n",
    "print(np.nan)\n"
   ]
  },
  {
   "cell_type": "code",
   "execution_count": 77,
   "metadata": {},
   "outputs": [
    {
     "name": "stdout",
     "output_type": "stream",
     "text": [
      "[[0 0 0 0 0]\n",
      " [0 1 0 0 0]\n",
      " [0 0 2 0 0]\n",
      " [0 0 0 3 0]\n",
      " [0 0 0 0 4]]\n"
     ]
    }
   ],
   "source": [
    "#18\n",
    "arr18 = np.zeros((5, 5), dtype=int)\n",
    "for i in range(1, 5):\n",
    "    arr18[i, i] = i\n",
    "print(arr18)"
   ]
  },
  {
   "cell_type": "code",
   "execution_count": 78,
   "metadata": {},
   "outputs": [
    {
     "name": "stdout",
     "output_type": "stream",
     "text": [
      "[[0 1 0 1 0 1 0 1]\n",
      " [1 0 1 0 1 0 1 0]\n",
      " [0 1 0 1 0 1 0 1]\n",
      " [1 0 1 0 1 0 1 0]\n",
      " [0 1 0 1 0 1 0 1]\n",
      " [1 0 1 0 1 0 1 0]\n",
      " [0 1 0 1 0 1 0 1]\n",
      " [1 0 1 0 1 0 1 0]]\n"
     ]
    },
    {
     "data": {
      "image/png": "[encoded data removed]",
      "text/plain": [
       "<Figure size 640x480 with 1 Axes>"
      ]
     },
     "metadata": {},
     "output_type": "display_data"
    }
   ],
   "source": [
    "#19\n",
    "arr19 = np.zeros((8, 8), dtype=int)\n",
    "arr19[1::2, ::2] = 1\n",
    "arr19[::2, 1::2] = 1\n",
    "print(arr19)\n",
    "plt.imshow(arr19, cmap='gray')\n",
    "plt.axis('off')\n",
    "plt.show()"
   ]
  },
  {
   "cell_type": "code",
   "execution_count": 79,
   "metadata": {},
   "outputs": [
    {
     "data": {
      "text/plain": [
       "(np.int64(1), np.int64(5), np.int64(4))"
      ]
     },
     "execution_count": 79,
     "metadata": {},
     "output_type": "execute_result"
    }
   ],
   "source": [
    "#20\n",
    "arr20 = np.unravel_index(100, (6, 7, 8))\n",
    "arr20"
   ]
  },
  {
   "cell_type": "code",
   "execution_count": 86,
   "metadata": {},
   "outputs": [
    {
     "name": "stdout",
     "output_type": "stream",
     "text": [
      "[[0 1]\n",
      " [1 0]]\n",
      "[[0 1 0 1 0 1 0 1]\n",
      " [1 0 1 0 1 0 1 0]\n",
      " [0 1 0 1 0 1 0 1]\n",
      " [1 0 1 0 1 0 1 0]\n",
      " [0 1 0 1 0 1 0 1]\n",
      " [1 0 1 0 1 0 1 0]\n",
      " [0 1 0 1 0 1 0 1]\n",
      " [1 0 1 0 1 0 1 0]]\n"
     ]
    },
    {
     "data": {
      "image/png": "[encoded data removed]",
      "text/plain": [
       "<Figure size 640x480 with 1 Axes>"
      ]
     },
     "metadata": {},
     "output_type": "display_data"
    }
   ],
   "source": [
    "#21\n",
    "arr21 = np.array([[0, 1], [1, 0]])\n",
    "print(arr21)\n",
    "checkerboard21 = np.tile(arr21, (4, 4))\n",
    "print(checkerboard21)\n",
    "plt.imshow(checkerboard21, cmap='gray')\n",
    "plt.axis('on')\n",
    "plt.show()\n"
   ]
  },
  {
   "cell_type": "code",
   "execution_count": 96,
   "metadata": {},
   "outputs": [
    {
     "name": "stdout",
     "output_type": "stream",
     "text": [
      "[[0.22264306 0.71222668 0.58296139 0.76420001 0.22473325]\n",
      " [0.89988054 0.6511762  0.73486915 0.694727   0.30618365]\n",
      " [0.92388317 0.53140085 0.62025994 0.12559069 0.36395087]\n",
      " [0.21166458 0.31037241 0.49298038 0.16680132 0.51409033]\n",
      " [0.59773549 0.33873048 0.92283089 0.55374533 0.62609741]]\n",
      "--------------------------------------------------------\n",
      "[[0.12157495 0.73486348 0.57293624 0.7999691  0.12419328]\n",
      " [0.96993253 0.65838715 0.7632271  0.71294209 0.22622405]\n",
      " [1.         0.50834771 0.61965916 0.         0.29858752]\n",
      " [0.1078225  0.23147119 0.4602194  0.05162347 0.48666327]\n",
      " [0.59144337 0.2669946  0.99868183 0.53633805 0.6269716 ]]\n"
     ]
    }
   ],
   "source": [
    "#22\n",
    "arr22 = np.random.rand(5, 5)\n",
    "print(arr22)\n",
    "print('--------------------------------------------------------')\n",
    "arr22_normalize = (arr22 - arr22.min()) / (arr22.max() - arr22.min())\n",
    "print(arr22_normalize)"
   ]
  },
  {
   "cell_type": "code",
   "execution_count": 98,
   "metadata": {},
   "outputs": [
    {
     "data": {
      "text/plain": [
       "dtype([('red', 'u1'), ('green', 'u1'), ('blue', 'u1'), ('alpha', 'u1')])"
      ]
     },
     "execution_count": 98,
     "metadata": {},
     "output_type": "execute_result"
    }
   ],
   "source": [
    "#23\n",
    "rgba_dtype23 = np.dtype([\n",
    "    ('red', np.uint8),\n",
    "    ('green', np.uint8),\n",
    "    ('blue', np.uint8),\n",
    "    ('alpha', np.uint8)])\n",
    "rgba_dtype23\n"
   ]
  },
  {
   "cell_type": "code",
   "execution_count": 108,
   "metadata": {},
   "outputs": [
    {
     "name": "stdout",
     "output_type": "stream",
     "text": [
      "[[0.47756116 1.34258568]\n",
      " [0.3853544  1.01279613]\n",
      " [0.23601167 0.75399911]\n",
      " [0.38031672 1.12955314]\n",
      " [0.10994488 0.37371018]]\n"
     ]
    }
   ],
   "source": [
    "#24\n",
    "matrix24_1 = np.random.rand(5, 3)\n",
    "matrix24_2 = np.random.rand(3, 2)\n",
    "matrix_multiply = np.dot(matrix24_1, matrix24_2)\n",
    "print(matrix_multiply)"
   ]
  },
  {
   "cell_type": "code",
   "execution_count": null,
   "metadata": {},
   "outputs": [],
   "source": []
  },
  {
   "cell_type": "code",
   "execution_count": null,
   "metadata": {},
   "outputs": [],
   "source": []
  }
 ],
 "metadata": {
  "kernelspec": {
   "display_name": "venv_numpy",
   "language": "python",
   "name": "python3"
  },
  "language_info": {
   "codemirror_mode": {
    "name": "ipython",
    "version": 3
   },
   "file_extension": ".py",
   "mimetype": "text/x-python",
   "name": "python",
   "nbconvert_exporter": "python",
   "pygments_lexer": "ipython3",
   "version": "3.12.3"
  }
 },
 "nbformat": 4,
 "nbformat_minor": 4
}
