{
 "cells": [
  {
   "cell_type": "markdown",
   "metadata": {},
   "source": [
    "# 20 Questions from Numpy Exercises (Without Answers)\n",
    "\n",
    "## 1. \n",
    "Create a null vector of size 10 with a `float32` data type.\n",
    "\n",
    "---\n",
    "\n",
    "## 2. \n",
    "How to find the indices of non-zero elements in an array?\n",
    "\n",
    "---\n",
    "\n",
    "## 3. \n",
    "Create a 3x3 matrix with values ranging from 1 to 9.\n",
    "\n",
    "---\n",
    "\n",
    "## 4. \n",
    "Create a 1D array of 10 random values and reshape it to a 3x3x3 array.\n",
    "\n",
    "---\n",
    "\n",
    "## 5. \n",
    "How can you compare two arrays to check if they are equal?\n",
    "\n",
    "---\n",
    "\n",
    "## 6. \n",
    "Create an array of 10 random values and find the maximum value.\n",
    "\n",
    "---\n",
    "\n",
    "## 7. \n",
    "Create a 5x5 2D array with 1 on the border and 0 inside.\n",
    "\n",
    "---\n",
    "\n",
    "## 8. \n",
    "How can you reverse an array?\n",
    "\n",
    "---\n",
    "\n",
    "## 9. \n",
    "Create a 5x5 matrix with random values and find the minimum and maximum values.\n",
    "\n",
    "---\n",
    "\n",
    "## 10. \n",
    "How to create a 1D array with values ranging from 0 to 9?\n",
    "\n",
    "---\n",
    "\n",
    "## 11. \n",
    "How to create a diagonal matrix using a 1D array?\n",
    "\n",
    "---\n",
    "\n",
    "## 12. \n",
    "Create a 4x4 matrix and extract the sub-matrix consisting of the 2nd and 3rd rows and columns.\n",
    "\n",
    "---\n",
    "\n",
    "## 13. \n",
    "How to normalize an array to the range [0, 1]?\n",
    "\n",
    "---\n",
    "\n",
    "## 14. \n",
    "Create a random vector of size 30 and find the mean value.\n",
    "\n",
    "---\n",
    "\n",
    "## 15. \n",
    "How to add a border of zeros around an existing array?\n",
    "\n",
    "---\n",
    "\n",
    "## 16. \n",
    "Create a 3x3 identity matrix.\n",
    "\n",
    "---\n",
    "\n",
    "## 17. \n",
    "How to generate a random number between 0 and 1?\n",
    "\n",
    "---\n",
    "\n",
    "## 18. \n",
    "How to replace all elements greater than a given value in an array with that value?\n",
    "\n",
    "---\n",
    "\n",
    "## 19. \n",
    "Create a random 5x5 matrix and compute the row-wise mean.\n",
    "\n",
    "---\n",
    "\n",
    "## 20. \n",
    "How to swap two rows in a matrix?\n"
   ]
  },
  {
   "cell_type": "code",
   "execution_count": 1,
   "metadata": {},
   "outputs": [],
   "source": [
    "import numpy as np"
   ]
  },
  {
   "cell_type": "code",
   "execution_count": 3,
   "metadata": {},
   "outputs": [
    {
     "name": "stdout",
     "output_type": "stream",
     "text": [
      "10\n",
      "[[2.2828399e-32 0.0000000e+00 0.0000000e+00 0.0000000e+00 6.0747855e-32]\n",
      " [0.0000000e+00 4.1015725e-32 0.0000000e+00 6.7262326e-44 0.0000000e+00]]\n"
     ]
    }
   ],
   "source": [
    "#1.\n",
    "none = np.empty([2, 5], dtype='float32')\n",
    "print(none.size)\n",
    "print(none)"
   ]
  },
  {
   "cell_type": "code",
   "execution_count": 6,
   "metadata": {},
   "outputs": [
    {
     "name": "stdout",
     "output_type": "stream",
     "text": [
      "[[1 0 3 0 9]\n",
      " [2 2 2 0 2]\n",
      " [4 0 2 0 2]]\n",
      "(array([0, 0, 0, 1, 1, 1, 1, 2, 2, 2]), array([0, 2, 4, 0, 1, 2, 4, 0, 2, 4]))\n"
     ]
    }
   ],
   "source": [
    "#2.\n",
    "arr2 = np.array([[1, 0, 3, 0, 9], [2, 2, 2, 0, 2], [4, 0, 2, 0, 2]])\n",
    "non_zero = np.nonzero(arr2)\n",
    "print(arr2)\n",
    "print(non_zero)"
   ]
  },
  {
   "cell_type": "code",
   "execution_count": 11,
   "metadata": {},
   "outputs": [
    {
     "name": "stdout",
     "output_type": "stream",
     "text": [
      "[1 2 3 4 5 6 7 8 9]\n",
      "[[1 2 3]\n",
      " [4 5 6]\n",
      " [7 8 9]]\n"
     ]
    }
   ],
   "source": [
    "#3.\n",
    "arr3 = np.arange(1, 10)\n",
    "re_arr3 = arr3.reshape(3, 3)\n",
    "print(arr3)\n",
    "print(re_arr3)"
   ]
  },
  {
   "cell_type": "code",
   "execution_count": 14,
   "metadata": {},
   "outputs": [
    {
     "name": "stdout",
     "output_type": "stream",
     "text": [
      "The history saving thread hit an unexpected error (OperationalError('attempt to write a readonly database')).History will not be written to the database.\n"
     ]
    }
   ],
   "source": [
    "#4.\n",
    "#arr4 = np.random.rand(10)\n",
    "#print(arr4)\n",
    "#re_arr4 = arr4.reshape(3, 3, 3)\n",
    "#print(re_arr4)"
   ]
  },
  {
   "cell_type": "code",
   "execution_count": 15,
   "metadata": {},
   "outputs": [
    {
     "name": "stdout",
     "output_type": "stream",
     "text": [
      "True\n",
      "False\n"
     ]
    }
   ],
   "source": [
    "#5.\n",
    "arr5_1 = np.array([1, 1, 2])\n",
    "arr5_2 = np.array([1, 1, 2])\n",
    "arr5_3 = np.array([1, 2, 2])\n",
    "print(np.array_equal(arr5_1, arr5_2))\n",
    "print(np.array_equal(arr5_1, arr5_3))"
   ]
  },
  {
   "cell_type": "code",
   "execution_count": 22,
   "metadata": {},
   "outputs": [
    {
     "name": "stdout",
     "output_type": "stream",
     "text": [
      "[0.01235494 0.85599256 0.88839297 0.29507529 0.89806435 0.56857159\n",
      " 0.93696747 0.2996738  0.90214666 0.56258154]\n",
      "0.9369674680569845\n"
     ]
    }
   ],
   "source": [
    "#6.\n",
    "arr6 = np.random.rand(10)\n",
    "print(arr6)\n",
    "print(np.max(arr6))"
   ]
  },
  {
   "cell_type": "code",
   "execution_count": null,
   "metadata": {},
   "outputs": [],
   "source": []
  },
  {
   "cell_type": "code",
   "execution_count": null,
   "metadata": {},
   "outputs": [],
   "source": [
    "\n"
   ]
  }
 ],
 "metadata": {
  "kernelspec": {
   "display_name": "Python 3 (ipykernel)",
   "language": "python",
   "name": "python3"
  },
  "language_info": {
   "codemirror_mode": {
    "name": "ipython",
    "version": 3
   },
   "file_extension": ".py",
   "mimetype": "text/x-python",
   "name": "python",
   "nbconvert_exporter": "python",
   "pygments_lexer": "ipython3",
   "version": "3.12.7"
  }
 },
 "nbformat": 4,
 "nbformat_minor": 4
}
