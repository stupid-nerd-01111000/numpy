{
 "cells": [
  {
   "cell_type": "markdown",
   "metadata": {},
   "source": [
    "# 20 Questions from Numpy Exercises (Without Answers)\n",
    "\n",
    "## 1. \n",
    "Create a null vector of size 10 with a `float32` data type.\n",
    "\n",
    "---\n",
    "\n",
    "## 2. \n",
    "How to find the indices of non-zero elements in an array?\n",
    "\n",
    "---\n",
    "\n",
    "## 3. \n",
    "Create a 3x3 matrix with values ranging from 1 to 9.\n",
    "\n",
    "---\n",
    "\n",
    "## 4. \n",
    "Create a 1D array of 10 random values and reshape it to a 3x3x3 array.\n",
    "\n",
    "---\n",
    "\n",
    "## 5. \n",
    "How can you compare two arrays to check if they are equal?\n",
    "\n",
    "---\n",
    "\n",
    "## 6. \n",
    "Create an array of 10 random values and find the maximum value.\n",
    "\n",
    "---\n",
    "\n",
    "## 7. \n",
    "Create a 5x5 2D array with 1 on the border and 0 inside.\n",
    "\n",
    "---\n",
    "\n",
    "## 8. \n",
    "How can you reverse an array?\n",
    "\n",
    "---\n",
    "\n",
    "## 9. \n",
    "Create a 5x5 matrix with random values and find the minimum and maximum values.\n",
    "\n",
    "---\n",
    "\n",
    "## 10. \n",
    "How to create a 1D array with values ranging from 0 to 9?\n",
    "\n",
    "---\n",
    "\n",
    "## 11. \n",
    "How to create a diagonal matrix using a 1D array?\n",
    "\n",
    "---\n",
    "\n",
    "## 12. \n",
    "Create a 4x4 matrix and extract the sub-matrix consisting of the 2nd and 3rd rows and columns.\n",
    "\n",
    "---\n",
    "\n",
    "## 13. \n",
    "How to normalize an array to the range [0, 1]?\n",
    "\n",
    "---\n",
    "\n",
    "## 14. \n",
    "Create a random vector of size 30 and find the mean value.\n",
    "\n",
    "---\n",
    "\n",
    "## 15. \n",
    "How to add a border of zeros around an existing array?\n",
    "\n",
    "---\n",
    "\n",
    "## 16. \n",
    "Create a 3x3 identity matrix.\n",
    "\n",
    "---\n",
    "\n",
    "## 17. \n",
    "How to generate a random number between 0 and 1?\n",
    "\n",
    "---\n",
    "\n",
    "## 18. \n",
    "How to replace all elements greater than a given value in an array with that value?\n",
    "\n",
    "---\n",
    "\n",
    "## 19. \n",
    "Create a random 5x5 matrix and compute the row-wise mean.\n",
    "\n",
    "---\n",
    "\n",
    "## 20. \n",
    "How to swap two rows in a matrix?\n"
   ]
  },
  {
   "cell_type": "code",
   "execution_count": 2,
   "metadata": {},
   "outputs": [],
   "source": [
    "import numpy as np"
   ]
  },
  {
   "cell_type": "code",
   "execution_count": 3,
   "metadata": {},
   "outputs": [
    {
     "name": "stdout",
     "output_type": "stream",
     "text": [
      "10\n",
      "[[2.2828399e-32 0.0000000e+00 0.0000000e+00 0.0000000e+00 6.0747855e-32]\n",
      " [0.0000000e+00 4.1015725e-32 0.0000000e+00 6.7262326e-44 0.0000000e+00]]\n"
     ]
    }
   ],
   "source": [
    "#1.\n",
    "none = np.empty([2, 5], dtype='float32')\n",
    "print(none.size)\n",
    "print(none)"
   ]
  },
  {
   "cell_type": "code",
   "execution_count": 6,
   "metadata": {},
   "outputs": [
    {
     "name": "stdout",
     "output_type": "stream",
     "text": [
      "[[1 0 3 0 9]\n",
      " [2 2 2 0 2]\n",
      " [4 0 2 0 2]]\n",
      "(array([0, 0, 0, 1, 1, 1, 1, 2, 2, 2]), array([0, 2, 4, 0, 1, 2, 4, 0, 2, 4]))\n"
     ]
    }
   ],
   "source": [
    "#2.\n",
    "arr2 = np.array([[1, 0, 3, 0, 9], [2, 2, 2, 0, 2], [4, 0, 2, 0, 2]])\n",
    "non_zero = np.nonzero(arr2)\n",
    "print(arr2)\n",
    "print(non_zero)"
   ]
  },
  {
   "cell_type": "code",
   "execution_count": 11,
   "metadata": {},
   "outputs": [
    {
     "name": "stdout",
     "output_type": "stream",
     "text": [
      "[1 2 3 4 5 6 7 8 9]\n",
      "[[1 2 3]\n",
      " [4 5 6]\n",
      " [7 8 9]]\n"
     ]
    }
   ],
   "source": [
    "#3.\n",
    "arr3 = np.arange(1, 10)\n",
    "re_arr3 = arr3.reshape(3, 3)\n",
    "print(arr3)\n",
    "print(re_arr3)"
   ]
  },
  {
   "cell_type": "code",
   "execution_count": 3,
   "metadata": {},
   "outputs": [
    {
     "name": "stdout",
     "output_type": "stream",
     "text": [
      "[0.8904793  0.51562463 0.80958414 0.87346395 0.57118216 0.43401179\n",
      " 0.39334003 0.04700537 0.56739364 0.54994204 0.71814822 0.93422017\n",
      " 0.06445675 0.8706047  0.08938242 0.18182281 0.2613723  0.872933\n",
      " 0.87597979 0.2615059  0.34775625 0.40037866 0.29546729 0.0260408\n",
      " 0.66973865 0.90997629 0.62622437]\n",
      "[[[0.8904793  0.51562463 0.80958414]\n",
      "  [0.87346395 0.57118216 0.43401179]\n",
      "  [0.39334003 0.04700537 0.56739364]]\n",
      "\n",
      " [[0.54994204 0.71814822 0.93422017]\n",
      "  [0.06445675 0.8706047  0.08938242]\n",
      "  [0.18182281 0.2613723  0.872933  ]]\n",
      "\n",
      " [[0.87597979 0.2615059  0.34775625]\n",
      "  [0.40037866 0.29546729 0.0260408 ]\n",
      "  [0.66973865 0.90997629 0.62622437]]]\n"
     ]
    }
   ],
   "source": [
    "#4.\n",
    "arr4 = np.random.rand(27)\n",
    "print(arr4)\n",
    "re_arr4 = arr4.reshape(3, 3, 3)\n",
    "print(re_arr4)"
   ]
  },
  {
   "cell_type": "code",
   "execution_count": 15,
   "metadata": {},
   "outputs": [
    {
     "name": "stdout",
     "output_type": "stream",
     "text": [
      "True\n",
      "False\n"
     ]
    }
   ],
   "source": [
    "#5.\n",
    "arr5_1 = np.array([1, 1, 2])\n",
    "arr5_2 = np.array([1, 1, 2])\n",
    "arr5_3 = np.array([1, 2, 2])\n",
    "print(np.array_equal(arr5_1, arr5_2))\n",
    "print(np.array_equal(arr5_1, arr5_3))"
   ]
  },
  {
   "cell_type": "code",
   "execution_count": 22,
   "metadata": {},
   "outputs": [
    {
     "name": "stdout",
     "output_type": "stream",
     "text": [
      "[0.01235494 0.85599256 0.88839297 0.29507529 0.89806435 0.56857159\n",
      " 0.93696747 0.2996738  0.90214666 0.56258154]\n",
      "0.9369674680569845\n"
     ]
    }
   ],
   "source": [
    "#6.\n",
    "arr6 = np.random.rand(10)\n",
    "print(arr6)\n",
    "print(np.max(arr6))"
   ]
  },
  {
   "cell_type": "code",
   "execution_count": 28,
   "metadata": {},
   "outputs": [
    {
     "name": "stdout",
     "output_type": "stream",
     "text": [
      "[[1. 1. 1. 1. 1.]\n",
      " [0. 0. 0. 0. 0.]\n",
      " [0. 0. 0. 0. 0.]\n",
      " [0. 0. 0. 0. 0.]\n",
      " [1. 1. 1. 1. 1.]]\n"
     ]
    }
   ],
   "source": [
    "#7\n",
    "arr7 = np.zeros((5, 5))\n",
    "arr7[[0, 4]] = 1\n",
    "#arr7[:, [0, 4]] = 1\n",
    "print(arr7)"
   ]
  },
  {
   "cell_type": "code",
   "execution_count": 33,
   "metadata": {},
   "outputs": [
    {
     "name": "stdout",
     "output_type": "stream",
     "text": [
      "[[6 5 4]\n",
      " [3 2 1]]\n"
     ]
    }
   ],
   "source": [
    "#8\n",
    "arr8 = np.array(([1, 2, 3], [4, 5, 6]))\n",
    "arr8_1 = np.flip(arr8)\n",
    "print(arr8_1)\n"
   ]
  },
  {
   "cell_type": "code",
   "execution_count": 44,
   "metadata": {},
   "outputs": [
    {
     "name": "stdout",
     "output_type": "stream",
     "text": [
      "[[0.97136821 0.37406573 0.41837225 0.37685826 0.9395849 ]\n",
      " [0.30435413 0.40389365 0.68736848 0.76609024 0.37587923]\n",
      " [0.11282851 0.87027147 0.31148404 0.21595671 0.24091073]\n",
      " [0.92167308 0.82287684 0.14575891 0.35854047 0.36961867]\n",
      " [0.66276753 0.83676004 0.30028197 0.44478708 0.9891703 ]]\n",
      "max -->  0.9891703021962394 at (4, 4)\n",
      "min -->  0.11282850841885306 at (2, 0)\n"
     ]
    }
   ],
   "source": [
    "#9\n",
    "arr9 = np.random.rand(5, 5)\n",
    "print(arr9)\n",
    "max_index = np.unravel_index(np.argmax(arr9), arr9.shape)\n",
    "min_index = np.unravel_index(np.argmin(arr9), arr9.shape)\n",
    "arr9_max = arr9.max()\n",
    "max_index = tuple(map(int, max_index))\n",
    "min_index = tuple(map(int, min_index))\n",
    "print('max --> ',arr9_max, 'at', max_index)\n",
    "arr9_min = arr9.min()\n",
    "print('min --> ',arr9_min, 'at', min_index)"
   ]
  },
  {
   "cell_type": "code",
   "execution_count": 45,
   "metadata": {},
   "outputs": [
    {
     "name": "stdout",
     "output_type": "stream",
     "text": [
      "[0 1 2 3 4 5 6 7 8]\n"
     ]
    }
   ],
   "source": [
    "#10\n",
    "arr10 = np.arange(0, 9)\n",
    "print(arr10)"
   ]
  },
  {
   "cell_type": "code",
   "execution_count": 49,
   "metadata": {},
   "outputs": [
    {
     "name": "stdout",
     "output_type": "stream",
     "text": [
      "[[1 0 0]\n",
      " [0 2 0]\n",
      " [0 0 3]]\n",
      "[[0 1 0 0]\n",
      " [0 0 2 0]\n",
      " [0 0 0 3]\n",
      " [0 0 0 0]]\n"
     ]
    }
   ],
   "source": [
    "#11\n",
    "arr11 = np.array([1, 2, 3])\n",
    "arr11_diag = np.diag(arr11)\n",
    "arr11_diag_1 = np.diag(arr11, k=1)\n",
    "print(arr11_diag)\n",
    "print(arr11_diag_1)"
   ]
  },
  {
   "cell_type": "code",
   "execution_count": 51,
   "metadata": {},
   "outputs": [
    {
     "name": "stdout",
     "output_type": "stream",
     "text": [
      "[[ 1  2  3  4]\n",
      " [ 5  6  7  8]\n",
      " [ 9 10 11 12]\n",
      " [13 14 15 16]]\n",
      "[[ 6  7]\n",
      " [10 11]]\n"
     ]
    }
   ],
   "source": [
    "#12\n",
    "arr12 = np.arange(1, 17).reshape(4, 4)\n",
    "print(arr12)\n",
    "arr12_sub = arr12[1:3, 1:3]\n",
    "print(arr12_sub)"
   ]
  },
  {
   "cell_type": "code",
   "execution_count": 54,
   "metadata": {},
   "outputs": [
    {
     "name": "stdout",
     "output_type": "stream",
     "text": [
      "[0.         0.02083333 0.02083333 0.05208333 0.         1.\n",
      " 0.04166667]\n",
      "[0.         0.         0.02083333 0.02083333 0.04166667 0.05208333\n",
      " 1.        ]\n"
     ]
    }
   ],
   "source": [
    "#13\n",
    "arr13 = np.array([2, 4, 4, 7, 2, 98, 6])\n",
    "arr13_min = arr13.min()\n",
    "arr13_max = arr13.max()\n",
    "arr13_normalized = (arr13 - arr13_min)/(arr13_max - arr13_min)\n",
    "print(arr13_normalized)\n",
    "arr13_normalized_sort = np.sort(arr13_normalized)\n",
    "print(arr13_normalized_sort)"
   ]
  },
  {
   "cell_type": "code",
   "execution_count": 58,
   "metadata": {},
   "outputs": [
    {
     "name": "stdout",
     "output_type": "stream",
     "text": [
      "[0.93338595 0.38670716 0.65095067 0.1761042  0.09384637 0.16526225\n",
      " 0.28996173 0.75850157 0.39819035 0.44306842 0.20696216 0.34230534\n",
      " 0.00193839 0.32088318]\n",
      "0.36914769496355326\n"
     ]
    }
   ],
   "source": [
    "#14\n",
    "arr14 = np.random.rand(14)\n",
    "print(arr14)\n",
    "arr14_mean = np.mean(arr14)\n",
    "print(arr14_mean)"
   ]
  },
  {
   "cell_type": "code",
   "execution_count": 60,
   "metadata": {},
   "outputs": [
    {
     "name": "stdout",
     "output_type": "stream",
     "text": [
      "[0 1 2 3 0]\n"
     ]
    }
   ],
   "source": [
    "#15\n",
    "arr15 = np.array([1, 2, 3])\n",
    "arr15_zb = np.pad(arr15, pad_width=1, mode='constant', constant_values=0)\n",
    "print(arr15_zb)"
   ]
  },
  {
   "cell_type": "code",
   "execution_count": 63,
   "metadata": {},
   "outputs": [
    {
     "name": "stdout",
     "output_type": "stream",
     "text": [
      "[[1. 0. 0.]\n",
      " [0. 1. 0.]\n",
      " [0. 0. 1.]]\n"
     ]
    }
   ],
   "source": [
    "#16\n",
    "arr16 = np.identity(3)\n",
    "print(arr16)"
   ]
  },
  {
   "cell_type": "code",
   "execution_count": null,
   "metadata": {},
   "outputs": [],
   "source": []
  }
 ],
 "metadata": {
  "kernelspec": {
   "display_name": "venv_numpy",
   "language": "python",
   "name": "python3"
  },
  "language_info": {
   "codemirror_mode": {
    "name": "ipython",
    "version": 3
   },
   "file_extension": ".py",
   "mimetype": "text/x-python",
   "name": "python",
   "nbconvert_exporter": "python",
   "pygments_lexer": "ipython3",
   "version": "3.12.3"
  }
 },
 "nbformat": 4,
 "nbformat_minor": 4
}
